{
 "cells": [
  {
   "cell_type": "code",
   "execution_count": 11,
   "id": "eadd7ec4",
   "metadata": {},
   "outputs": [
    {
     "name": "stdout",
     "output_type": "stream",
     "text": [
      "Prediction (1 = Survived): [0]\n"
     ]
    }
   ],
   "source": [
    "import pickle\n",
    "import pandas as pd\n",
    "\n",
    "# Load the model\n",
    "model = pickle.load(open('titanic_model.pkl', 'rb'))\n",
    "\n",
    "# Full sample with all expected features\n",
    "sample = pd.DataFrame([{\n",
    "    'Pclass': 3,\n",
    "    'Sex': 1,\n",
    "    'Age': 22,\n",
    "    'SibSp': 1,\n",
    "    'Parch': 0,\n",
    "    'Fare': 7.25,\n",
    "    'Embarked': 0,     # e.g. S\n",
    "    'FamilySize': 1,\n",
    "    'Title': 1,       # e.g. Mr\n",
    "}])\n",
    "\n",
    "# Predict\n",
    "print(\"Prediction (1 = Survived):\", model.predict(sample))\n",
    "\n"
   ]
  },
  {
   "cell_type": "code",
   "execution_count": null,
   "id": "599036ee",
   "metadata": {},
   "outputs": [],
   "source": []
  }
 ],
 "metadata": {
  "kernelspec": {
   "display_name": "Python 3 (ipykernel)",
   "language": "python",
   "name": "python3"
  },
  "language_info": {
   "codemirror_mode": {
    "name": "ipython",
    "version": 3
   },
   "file_extension": ".py",
   "mimetype": "text/x-python",
   "name": "python",
   "nbconvert_exporter": "python",
   "pygments_lexer": "ipython3",
   "version": "3.9.12"
  }
 },
 "nbformat": 4,
 "nbformat_minor": 5
}
